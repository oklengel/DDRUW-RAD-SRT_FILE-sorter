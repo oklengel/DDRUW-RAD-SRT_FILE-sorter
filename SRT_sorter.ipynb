{
 "cells": [
  {
   "cell_type": "code",
   "execution_count": 1,
   "id": "8eeddf9b",
   "metadata": {},
   "outputs": [],
   "source": [
    "import sys"
   ]
  },
  {
   "cell_type": "code",
   "execution_count": 2,
   "id": "e7d39e92",
   "metadata": {},
   "outputs": [],
   "source": [
    "def parse_srt_file(file_path):\n",
    "    \"\"\"Parse an SRT file and return a list of subtitle entries.\"\"\"\n",
    "    with open(file_path, 'r') as f:\n",
    "        lines = f.readlines()\n",
    "        entries = []\n",
    "        entry = None\n",
    "        for line in lines:\n",
    "            if not entry:\n",
    "                entry = {'index': int(line), 'times': None, 'text': ''}\n",
    "            elif not entry['times']:\n",
    "                start, end = line.split(' --> ')\n",
    "                entry['times'] = (parse_time(start), parse_time(end))\n",
    "            elif line.strip() == '':\n",
    "                entries.append(entry)\n",
    "                entry = None\n",
    "            else:\n",
    "                entry['text'] += line\n",
    "        if entry:\n",
    "            entries.append(entry)\n",
    "    return entries\n",
    "\n",
    "def parse_time(time_str):\n",
    "    \"\"\"Parse a time string in the format '00:00:00,000' and return the number of milliseconds.\"\"\"\n",
    "    hours, minutes, seconds_milliseconds = time_str.split(':')\n",
    "    seconds, milliseconds = seconds_milliseconds.split(',')\n",
    "    return int(hours) * 3600000 + int(minutes) * 60000 + int(seconds) * 1000 + int(milliseconds)\n",
    "\n",
    "def format_time(milliseconds):\n",
    "    \"\"\"Format a time in milliseconds as a string in the format '00:00:00,000'.\"\"\"\n",
    "    hours = milliseconds // 3600000\n",
    "    minutes = (milliseconds // 60000) % 60\n",
    "    seconds = (milliseconds // 1000) % 60\n",
    "    milliseconds = milliseconds % 1000\n",
    "    return '{:02d}:{:02d}:{:02d},{:03d}'.format(hours, minutes, seconds, milliseconds)\n",
    "\n",
    "def sort_subtitles_by_time(subtitles):\n",
    "    \"\"\"Sort a list of subtitle entries by start time.\"\"\"\n",
    "    return sorted(subtitles, key=lambda x: x['times'][0])\n",
    "\n",
    "def save_srt_file(subtitles, file_path):\n",
    "    \"\"\"Save a list of subtitle entries to an SRT file.\"\"\"\n",
    "    with open(file_path, 'w') as f:\n",
    "        for i, entry in enumerate(subtitles):\n",
    "            #f.write('{}\\n'.format(entry['index']))\n",
    "            f.write(str(i)+\"\\n\")\n",
    "            f.write('{} --> {}\\n'.format(format_time(entry['times'][0]), format_time(entry['times'][1])))\n",
    "            f.write(entry['text'])\n",
    "            if i < len(subtitles) - 1:\n",
    "                f.write('\\n')\n",
    "\n",
    "\n",
    "    #input_file_path = sys.argv[1]\n",
    "    #output_file_path = sys.argv[2]\n",
    "\n",
    "   # subtitles = parse_srt_file(input_file_path)\n",
    "    #subtitles = sort_subtitles_by_time(subtitles)\n",
    "    #save_srt_file(subtitles, output_file_path)\n",
    "\n",
    "    print('Sorted subtitles saved to {}'.format(output_file_path))\n"
   ]
  },
  {
   "cell_type": "code",
   "execution_count": 4,
   "id": "9aa01794",
   "metadata": {},
   "outputs": [
    {
     "name": "stdout",
     "output_type": "stream",
     "text": [
      "Sorted subtitles saved to ./out_S1E3.srt\n"
     ]
    }
   ],
   "source": [
    "input_file_path = \"./in-S1E3.srt\"\n",
    "output_file_path = \"./out_S1E3.srt\"\n",
    "subtitles = parse_srt_file(input_file_path)\n",
    "subtitles = sort_subtitles_by_time(subtitles)\n",
    "save_srt_file(subtitles, output_file_path)"
   ]
  },
  {
   "cell_type": "code",
   "execution_count": null,
   "id": "38b2ca0a",
   "metadata": {},
   "outputs": [],
   "source": []
  }
 ],
 "metadata": {
  "kernelspec": {
   "display_name": "Python 3 (ipykernel)",
   "language": "python",
   "name": "python3"
  },
  "language_info": {
   "codemirror_mode": {
    "name": "ipython",
    "version": 3
   },
   "file_extension": ".py",
   "mimetype": "text/x-python",
   "name": "python",
   "nbconvert_exporter": "python",
   "pygments_lexer": "ipython3",
   "version": "3.9.15"
  }
 },
 "nbformat": 4,
 "nbformat_minor": 5
}
